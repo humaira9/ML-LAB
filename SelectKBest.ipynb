{
 "cells": [
  {
   "cell_type": "code",
   "execution_count": 12,
   "id": "ff57410a",
   "metadata": {},
   "outputs": [
    {
     "name": "stdout",
     "output_type": "stream",
     "text": [
      "Feature:sepal length (cm),score:10.817820878494002,p-value:0.004476514990225768\n",
      "Feature:sepal width (cm),score:3.7107283035324965,p-value:0.15639598043162514\n",
      "Feature:petal length (cm),score:116.31261309207025,p-value:5.533972277193866e-26\n",
      "Feature:petal width (cm),score:67.04836020011118,p-value:2.758249653003403e-15\n"
     ]
    }
   ],
   "source": [
    "import pandas as pd\n",
    "from sklearn.datasets import load_iris\n",
    "from sklearn.feature_selection import SelectKBest\n",
    "from sklearn.feature_selection import chi2\n",
    "data=load_iris()\n",
    "X=data.data\n",
    "y=data.target\n",
    "feature_names=data.feature_names\n",
    "df=pd.DataFrame(X,columns=feature_names)\n",
    "k=2\n",
    "selector=SelectKBest(score_func=chi2,k=2)\n",
    "X_new=selector.fit_transform(X,y)\n",
    "scores=selector.scores_\n",
    "p_value=selector.pvalues_\n",
    "selected_indices=selector.get_support(indices=True)\n",
    "for i,feature_name in enumerate(feature_names):\n",
    "    print(f\"Feature:{feature_name},score:{scores[i]},p-value:{p_value[i]}\")"
   ]
  },
  {
   "cell_type": "code",
   "execution_count": 15,
   "id": "5ec757cf",
   "metadata": {},
   "outputs": [
    {
     "name": "stdout",
     "output_type": "stream",
     "text": [
      "Selected Features:['petal length (cm)', 'petal width (cm)']\n"
     ]
    }
   ],
   "source": [
    "selected_features=[feature_names[i] for i in selected_indices]\n",
    "print(f\"Selected Features:{selected_features}\")"
   ]
  },
  {
   "cell_type": "code",
   "execution_count": 18,
   "id": "399baf8d",
   "metadata": {},
   "outputs": [
    {
     "data": {
      "text/plain": [
       "(150, 2)"
      ]
     },
     "execution_count": 18,
     "metadata": {},
     "output_type": "execute_result"
    }
   ],
   "source": [
    "X_new.shape"
   ]
  },
  {
   "cell_type": "code",
   "execution_count": null,
   "id": "3ebf8412",
   "metadata": {},
   "outputs": [],
   "source": []
  }
 ],
 "metadata": {
  "kernelspec": {
   "display_name": "Python 3 (ipykernel)",
   "language": "python",
   "name": "python3"
  },
  "language_info": {
   "codemirror_mode": {
    "name": "ipython",
    "version": 3
   },
   "file_extension": ".py",
   "mimetype": "text/x-python",
   "name": "python",
   "nbconvert_exporter": "python",
   "pygments_lexer": "ipython3",
   "version": "3.9.13"
  }
 },
 "nbformat": 4,
 "nbformat_minor": 5
}
